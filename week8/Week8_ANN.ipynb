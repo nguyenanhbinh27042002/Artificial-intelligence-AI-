{
  "nbformat": 4,
  "nbformat_minor": 0,
  "metadata": {
    "colab": {
      "provenance": []
    },
    "kernelspec": {
      "name": "python3",
      "display_name": "Python 3"
    },
    "language_info": {
      "name": "python"
    }
  },
  "cells": [
    {
      "cell_type": "markdown",
      "source": [
        "du lieu cong OR"
      ],
      "metadata": {
        "id": "-heSludhsdOM"
      }
    },
    {
      "cell_type": "code",
      "execution_count": null,
      "metadata": {
        "id": "cwKm_75vjALS",
        "colab": {
          "base_uri": "https://localhost:8080/"
        },
        "outputId": "9669e5fb-1e1f-4b12-db52-678995d2f0db"
      },
      "outputs": [
        {
          "output_type": "execute_result",
          "data": {
            "text/plain": [
              "1.0"
            ]
          },
          "metadata": {},
          "execution_count": 2
        }
      ],
      "source": [
        "from sklearn import linear_model\n",
        "from sklearn.linear_model import Perceptron\n",
        "x= [[0,0],[0,1],[1,0],[1,1]]\n",
        "t= [0,1,1,1]\n",
        "\n",
        "model=Perceptron()\n",
        "model.fit(x,t)\n",
        "model.score(x,t)"
      ]
    },
    {
      "cell_type": "code",
      "source": [
        "x1=[[0.5,0.5],[-0.5,-0.5],[10,2.3],[-1,-2]]\n",
        "y=model.predict(x1)\n",
        "model.score(x,y)"
      ],
      "metadata": {
        "colab": {
          "base_uri": "https://localhost:8080/"
        },
        "id": "f1d6PAhCvH1f",
        "outputId": "61899969-30a6-4584-dbf9-306240721199"
      },
      "execution_count": null,
      "outputs": [
        {
          "output_type": "execute_result",
          "data": {
            "text/plain": [
              "0.25"
            ]
          },
          "metadata": {},
          "execution_count": 13
        }
      ]
    },
    {
      "cell_type": "code",
      "source": [
        "x2 = [[0.5,0.5],[0.5,0],[0,0.5],[0.4,0]]\n",
        "y1=model.predict(x2)\n",
        "model.score(x,y1)\n",
        "print(y1)"
      ],
      "metadata": {
        "colab": {
          "base_uri": "https://localhost:8080/"
        },
        "id": "Opp33FblxT_0",
        "outputId": "1344b57d-77e8-4fb0-841b-08f38759c99c"
      },
      "execution_count": null,
      "outputs": [
        {
          "output_type": "stream",
          "name": "stdout",
          "text": [
            "[1 0 0 0]\n"
          ]
        }
      ]
    },
    {
      "cell_type": "code",
      "source": [
        "from sklearn.linear_model import Perceptron\n",
        "\n",
        "x=[[-0.5,-0.5],[-0.5,0.5],[0.3,0.5],[-0.1,1]]\n",
        "t = [1,1,0,0]\n",
        "\n",
        "\n",
        "model=Perceptron()\n",
        "model.fit(x,t)\n",
        "model.score(x,t)"
      ],
      "metadata": {
        "colab": {
          "base_uri": "https://localhost:8080/"
        },
        "id": "o4yg5GXKy4U4",
        "outputId": "3165bab8-6c12-4e20-ca47-a374fa7c0f7e"
      },
      "execution_count": null,
      "outputs": [
        {
          "output_type": "execute_result",
          "data": {
            "text/plain": [
              "1.0"
            ]
          },
          "metadata": {},
          "execution_count": 3
        }
      ]
    },
    {
      "cell_type": "code",
      "source": [
        "x1= [[0,0],[0,1],[1,0],[1,1]]\n",
        "y1 = model.predict(x)\n",
        "model.score(x,y1)\n",
        "print(y1)"
      ],
      "metadata": {
        "colab": {
          "base_uri": "https://localhost:8080/"
        },
        "id": "JDY7xBgJ1ErF",
        "outputId": "709e67a0-39ac-4e6d-cb0c-6bdefa271781"
      },
      "execution_count": null,
      "outputs": [
        {
          "output_type": "stream",
          "name": "stdout",
          "text": [
            "[1 1 0 0]\n"
          ]
        }
      ]
    },
    {
      "cell_type": "markdown",
      "source": [
        "phan loai hoa lan"
      ],
      "metadata": {
        "id": "N4hlIXBj2IEQ"
      }
    },
    {
      "cell_type": "code",
      "source": [
        "from sklearn.linear_model import Perceptron\n",
        "from sklearn import datasets\n",
        "from sklearn.model_selection import train_test_split \n",
        "# khong su dung du lieu train de test => overfix\n",
        "from sklearn.metrics import accuracy_score\n",
        "from sklearn.preprocessing import StandardScaler # du lieu khong deu bat buoc scale de tra ve du lieu 0-1 de thuc hien sau do scale tra ve gia tri bd\n",
        "\n",
        "\n",
        "iris = datasets.load_iris()\n",
        "x= iris.data\n",
        "y = iris.target\n",
        "print(x[:5])\n",
        "print(y[:5])\n",
        "\n",
        "x_train,x_test,y_train,y_test = train_test_split(x,y,test_size=0.3)\n",
        "sc=StandardScaler()\n",
        "sc.fit(x_train)\n",
        "x_train_std=sc.transform(x_train)\n",
        "x_test_std=sc.transform(x_test)\n",
        "print(x_train_std[:5],x_train[:5])\n",
        "print(y[:5])\n",
        "\n",
        "model = Perceptron(max_iter=1000,eta0=0.4,random_state=0)\n",
        "#max_iter : so lan hoc\n",
        "#eta0 toc do hoc\n",
        "model.fit(x_train_std,y_train)\n",
        "y_pred=model.predict(x_test_std)\n",
        "\n",
        "print(y_pred)\n",
        "print(y_test)\n",
        "print(\"Do chinh xac mo hinh:\",accuracy_score(y_test,y_pred))"
      ],
      "metadata": {
        "colab": {
          "base_uri": "https://localhost:8080/"
        },
        "id": "vhfVNGo611UC",
        "outputId": "dbf1f95c-31d5-4f01-fe67-f0ceabdeaff0"
      },
      "execution_count": null,
      "outputs": [
        {
          "output_type": "stream",
          "name": "stdout",
          "text": [
            "[[5.1 3.5 1.4 0.2]\n",
            " [4.9 3.  1.4 0.2]\n",
            " [4.7 3.2 1.3 0.2]\n",
            " [4.6 3.1 1.5 0.2]\n",
            " [5.  3.6 1.4 0.2]]\n",
            "[0 0 0 0 0]\n",
            "[[-0.17149859 -0.30835229  0.27114791  0.18158251]\n",
            " [-0.17149859 -0.09250569  0.27114791  0.04539563]\n",
            " [ 0.18158674 -1.81927852  0.72306109  0.45395628]\n",
            " [-1.81923009 -0.09250569 -1.48001567 -1.45266011]\n",
            " [ 0.65236717 -0.30835229  0.32763706  0.18158251]] [[5.7 2.9 4.2 1.3]\n",
            " [5.7 3.  4.2 1.2]\n",
            " [6.  2.2 5.  1.5]\n",
            " [4.3 3.  1.1 0.1]\n",
            " [6.4 2.9 4.3 1.3]]\n",
            "[0 0 0 0 0]\n",
            "[1 2 2 0 2 2 0 0 1 0 0 2 2 1 2 0 0 1 1 2 0 1 2 1 2 1 1 0 1 2 2 0 1 2 2 2 1\n",
            " 2 2 2 0 0 0 0 0]\n",
            "[1 2 2 0 2 2 0 0 1 0 0 2 2 1 2 0 0 1 1 2 0 1 1 1 2 1 2 0 1 1 2 0 1 2 2 2 1\n",
            " 2 2 2 0 0 0 0 1]\n",
            "Do chinh xac mo hinh: 0.9111111111111111\n"
          ]
        }
      ]
    },
    {
      "cell_type": "code",
      "source": [
        "\n",
        "# Crabs \n",
        "import pandas as pd \n",
        "import matplotlib.pyplot as plt\n",
        "import numpy as np\n",
        "url = '/content/crabs.csv'\n",
        "DataFrame = pd.read_csv(url)\n",
        "\n",
        "print(DataFrame)\n",
        "\n"
      ],
      "metadata": {
        "colab": {
          "base_uri": "https://localhost:8080/"
        },
        "id": "Y0eZp9NP_I86",
        "outputId": "2d27feeb-6746-48e2-c33e-efec1ce29bad"
      },
      "execution_count": null,
      "outputs": [
        {
          "output_type": "stream",
          "name": "stdout",
          "text": [
            "    speies sex  index  fontallip  rearwidth  length  width  depth\n",
            "0        B   M      1        8.1        6.7    16.1   19.0    7.0\n",
            "1        B   M      2        8.8        7.7    18.1   20.8    7.4\n",
            "2        B   M      3        9.2        7.8    19.0   22.4    7.7\n",
            "3        B   M      4        9.6        7.9    20.1   23.1    8.2\n",
            "4        B   M      5        9.8        8.0    20.3   23.0    8.2\n",
            "..     ...  ..    ...        ...        ...     ...    ...    ...\n",
            "195      O   F     46       21.4       18.0    41.2   46.2   18.7\n",
            "196      O   F     47       21.7       17.1    41.7   47.2   19.6\n",
            "197      O   F     48       21.9       17.2    42.6   47.4   19.5\n",
            "198      O   F     49       22.5       17.2    43.0   48.7   19.8\n",
            "199      O   F     50       23.1       20.2    46.2   52.5   21.1\n",
            "\n",
            "[200 rows x 8 columns]\n"
          ]
        }
      ]
    },
    {
      "cell_type": "code",
      "source": [
        "# thay the gia tri \n",
        "DataFrame['speies'].replace({\"B\":\"0\",\"O\":\"1\"},inplace=True)\n",
        "DataFrame['sex'].replace({\"F\":\"0\",\"M\":\"1\"},inplace=True)\n",
        "print(DataFrame)\n"
      ],
      "metadata": {
        "colab": {
          "base_uri": "https://localhost:8080/"
        },
        "id": "TkzQSU_mGuJ7",
        "outputId": "e147622f-4986-4099-ff2f-4cbf455e2e0c"
      },
      "execution_count": null,
      "outputs": [
        {
          "output_type": "stream",
          "name": "stdout",
          "text": [
            "    speies sex  index  fontallip  rearwidth  length  width  depth\n",
            "0        0   1      1        8.1        6.7    16.1   19.0    7.0\n",
            "1        0   1      2        8.8        7.7    18.1   20.8    7.4\n",
            "2        0   1      3        9.2        7.8    19.0   22.4    7.7\n",
            "3        0   1      4        9.6        7.9    20.1   23.1    8.2\n",
            "4        0   1      5        9.8        8.0    20.3   23.0    8.2\n",
            "..     ...  ..    ...        ...        ...     ...    ...    ...\n",
            "195      1   0     46       21.4       18.0    41.2   46.2   18.7\n",
            "196      1   0     47       21.7       17.1    41.7   47.2   19.6\n",
            "197      1   0     48       21.9       17.2    42.6   47.4   19.5\n",
            "198      1   0     49       22.5       17.2    43.0   48.7   19.8\n",
            "199      1   0     50       23.1       20.2    46.2   52.5   21.1\n",
            "\n",
            "[200 rows x 8 columns]\n"
          ]
        }
      ]
    },
    {
      "cell_type": "code",
      "source": [
        "DataFrame= datasets.load_iris()\n",
        "x= DataFrame.data\n",
        "y = DataFrame.target\n",
        "print(x[:5])\n",
        "print(y[:5])\n",
        "\n",
        "x_train,x_test,y_train,y_test = train_test_split(x,y,test_size=0.3)\n",
        "sc=StandardScaler()\n",
        "sc.fit(x_train)\n",
        "x_train_std=sc.transform(x_train)\n",
        "x_test_std=sc.transform(x_test)\n",
        "print(x_train_std[:5],x_train[:5])\n",
        "print(y[:5])\n",
        "\n",
        "model = Perceptron(max_iter=1000,eta0=0.4,random_state=0)\n",
        "#max_iter : so lan hoc\n",
        "#eta0 toc do hoc\n",
        "model.fit(x_train_std,y_train)\n",
        "y_pred=model.predict(x_test_std)\n",
        "\n",
        "print(y_pred)\n",
        "print(y_test)\n",
        "print(\"Do chinh xac mo hinh:\",accuracy_score(y_test,y_pred))"
      ],
      "metadata": {
        "id": "14wQZsNw7AHI",
        "colab": {
          "base_uri": "https://localhost:8080/"
        },
        "outputId": "2b0bb63f-248d-44f7-f9f6-eb538ffdc896"
      },
      "execution_count": null,
      "outputs": [
        {
          "output_type": "stream",
          "name": "stdout",
          "text": [
            "[[5.1 3.5 1.4 0.2]\n",
            " [4.9 3.  1.4 0.2]\n",
            " [4.7 3.2 1.3 0.2]\n",
            " [4.6 3.1 1.5 0.2]\n",
            " [5.  3.6 1.4 0.2]]\n",
            "[0 0 0 0 0]\n",
            "[[-0.93503021  1.80282885 -1.25733032 -1.33861195]\n",
            " [-0.2157762  -0.16389353  0.19589228 -0.06432134]\n",
            " [ 0.98298048 -1.39309502  1.0901831   0.70025303]\n",
            " [ 1.34260748  0.32778706  0.47535816  0.19053679]\n",
            " [ 0.62335347 -0.90141443  0.81071722  0.82768209]] [[5.1 3.8 1.6 0.2]\n",
            " [5.7 3.  4.2 1.2]\n",
            " [6.7 2.5 5.8 1.8]\n",
            " [7.  3.2 4.7 1.4]\n",
            " [6.4 2.7 5.3 1.9]]\n",
            "[0 0 0 0 0]\n",
            "[0 0 1 0 1 1 0 1 0 1 2 1 2 1 1 2 0 1 1 1 0 2 1 1 0 0 1 0 0 2 1 1 1 1 1 0 0\n",
            " 1 0 2 1 1 2 0 1]\n",
            "[0 0 2 0 1 1 0 1 0 2 2 1 2 1 1 2 0 1 1 1 0 2 1 1 0 0 1 0 0 2 1 1 1 1 1 0 0\n",
            " 1 0 2 1 1 2 0 1]\n",
            "Do chinh xac mo hinh: 0.9555555555555556\n"
          ]
        }
      ]
    }
  ]
}